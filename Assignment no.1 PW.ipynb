{
 "cells": [
  {
   "cell_type": "markdown",
   "id": "cac891af",
   "metadata": {},
   "source": [
    "Q-1\n",
    "Ans- a) A variable name must start with an alphabet or an underscore(_).\n",
    "     b) A variable name cannot contains spaces.for spaces we use underscore for ex- Aayush_BRO\n",
    "     c) A variable name can contain any number of letters,digits and unerscore . No other characters apart from these are allowed .\n",
    "     d) A python Keyword cannot be used as a variable name .\n",
    "     e) Variables name are case sensitive.\n",
    "     \n",
    "Q-2\n",
    "Ans- An error will occur if we use keywords ans a variable name because keywords are some fixed words in python that is used by the compiler\n",
    "\n",
    "Q3\n",
    "Ans- No we cannot declare strings as a variable name because python follows some set of rules for variable defining and this violates these rules\n",
    "\n",
    "Q4\n",
    "Ans- Yes, it is possible to declare a variable with the name \"_\" (underscore) in Python. The underscore character is a valid character for variable names, and it has a special meaning in certain contexts.\n",
    "\n",
    "Q5 \n",
    "Ans- In python variables are dynamic in nature here is an example of dynamic variable.'\n",
    "Example :-\n",
    "x = 10\n",
    "print(\"The value of x is:\", x)\n",
    "print(\"The type of x is:\", type(x))\n",
    "\n",
    "x = \"Hello, World!\"\n",
    "print(\"The new value of x is:\", x)\n",
    "print(\"The new type of x is:\", type(x))\n"
   ]
  }
 ],
 "metadata": {
  "kernelspec": {
   "display_name": "Python 3 (ipykernel)",
   "language": "python",
   "name": "python3"
  },
  "language_info": {
   "codemirror_mode": {
    "name": "ipython",
    "version": 3
   },
   "file_extension": ".py",
   "mimetype": "text/x-python",
   "name": "python",
   "nbconvert_exporter": "python",
   "pygments_lexer": "ipython3",
   "version": "3.10.9"
  }
 },
 "nbformat": 4,
 "nbformat_minor": 5
}
