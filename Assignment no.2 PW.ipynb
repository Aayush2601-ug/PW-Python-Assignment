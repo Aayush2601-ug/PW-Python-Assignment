{
 "cells": [
  {
   "cell_type": "code",
   "execution_count": 2,
   "metadata": {},
   "outputs": [
    {
     "name": "stdout",
     "output_type": "stream",
     "text": [
      " ' \n"
     ]
    }
   ],
   "source": [
    "s = \" ' \"\n",
    "print(s)"
   ]
  },
  {
   "cell_type": "markdown",
   "metadata": {},
   "source": [
    "Ans 1 - to print ' as a string we can use multiquotes ."
   ]
  },
  {
   "cell_type": "code",
   "execution_count": 4,
   "metadata": {},
   "outputs": [
    {
     "name": "stdout",
     "output_type": "stream",
     "text": [
      "<class 'str'>\n"
     ]
    }
   ],
   "source": [
    "x = 'a'\n",
    "z = type(x)\n",
    "print(z)"
   ]
  },
  {
   "cell_type": "markdown",
   "metadata": {},
   "source": [
    "Ans 2 -  x = 'a' is a string not character because the letter a is in the single quotes which convert that into string . "
   ]
  },
  {
   "cell_type": "code",
   "execution_count": 10,
   "metadata": {},
   "outputs": [
    {
     "name": "stdout",
     "output_type": "stream",
     "text": [
      "11\n",
      "1\n",
      "35\n"
     ]
    }
   ],
   "source": [
    "# Ans 3 -->\n",
    "\n",
    "\n",
    "s = 'Welcome to Python foun at1on course'\n",
    "z = s.find('P')\n",
    "print(z)\n",
    "c = s.count(s)\n",
    "print(c)\n",
    "\n",
    "l = len(s)\n",
    "print(l)\n"
   ]
  },
  {
   "cell_type": "code",
   "execution_count": 12,
   "metadata": {},
   "outputs": [
    {
     "name": "stdout",
     "output_type": "stream",
     "text": [
      "Concatenated string: Welcome to Python foundation course\n"
     ]
    }
   ],
   "source": [
    "# Ans 3 -->\n",
    "\n",
    "text1 = 'Welcome to'\n",
    "text2 = ' Python foundation course'\n",
    "cc = text1 + text2\n",
    "print(\"Concatenated string:\", cc)\n"
   ]
  },
  {
   "cell_type": "code",
   "execution_count": 14,
   "metadata": {},
   "outputs": [
    {
     "name": "stdout",
     "output_type": "stream",
     "text": [
      "Total number of lowercase alphabets: 3\n",
      "Total number of uppercase alphabets: 2\n",
      "Total number of numerical characters: 6\n"
     ]
    }
   ],
   "source": [
    "# Ans 4 -->\n",
    "wor = 'PanaJ1@12256'\n",
    "lowercase_count = 0\n",
    "uppercase_count = 0\n",
    "numeric_count = 0\n",
    "for char in wor:\n",
    "    if char.islower():\n",
    "        lowercase_count += 1\n",
    "    elif char.isupper():\n",
    "        uppercase_count += 1\n",
    "    elif char.isnumeric():\n",
    "        numeric_count += 1\n",
    "print(\"Total number of lowercase alphabets:\", lowercase_count)\n",
    "print(\"Total number of uppercase alphabets:\", uppercase_count)\n",
    "print(\"Total number of numerical characters:\", numeric_count)\n"
   ]
  },
  {
   "cell_type": "code",
   "execution_count": 22,
   "metadata": {},
   "outputs": [
    {
     "name": "stdout",
     "output_type": "stream",
     "text": [
      "65464\n"
     ]
    }
   ],
   "source": [
    "# Ans 5-->\n",
    "\n",
    "s = int(input(\"enter the number\"))\n",
    "x = str(s)\n",
    "z = x[0:5:1]\n",
    "print(z)\n",
    "\n"
   ]
  }
 ],
 "metadata": {
  "kernelspec": {
   "display_name": "Python 3",
   "language": "python",
   "name": "python3"
  },
  "language_info": {
   "codemirror_mode": {
    "name": "ipython",
    "version": 3
   },
   "file_extension": ".py",
   "mimetype": "text/x-python",
   "name": "python",
   "nbconvert_exporter": "python",
   "pygments_lexer": "ipython3",
   "version": "3.11.3"
  },
  "orig_nbformat": 4
 },
 "nbformat": 4,
 "nbformat_minor": 2
}
